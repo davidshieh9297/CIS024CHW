{
 "cells": [
  {
   "cell_type": "markdown",
   "metadata": {},
   "source": [
    "\n",
    "# CIS024C - Spring 2018 - Monday 5:30-9:25pm \n",
    "\n",
    "## Homework 4\n",
    "\n",
    "Homework 4 covers exercises in basic collection objects in Python - lists, tuples and dictionaries.\n",
    "\n",
    "The below sites have some interesting and useful information on these objects.\n",
    "\n",
    "http://sthurlow.com/python/lesson06/\n",
    "https://docs.python.org/2/tutorial/datastructures.html\n",
    "\n",
    "You will need to download this notebook and use this as a starting point for your homework. You will just need to fill in the content of each code-block (cell) and execute. Once you have completed all the exercises, you will need to save and upload this to your github repository under a folder called hw4\n",
    "\n",
    "Note also the exercises build on top of one another so you might be able to do the next exercise if you have not completed the previous exercise.\n",
    "\n",
    "Post any questions you have on our Slack at **cis-024c1.slack.com**\n",
    "\n",
    "<h3><font color='red'>\n",
    "ALL THE WORK THAT WE DID IN CLASS DURING WEEK 4 IS NOW IN GITHUB AT THE BELOW LINK\n",
    "</font></h3>\n",
    "\n",
    "https://github.com/cis024c/spring2018classwork/tree/master/week4\n",
    "\n",
    "** Slides ** for Week 4 can be found at https://docs.google.com/presentation/d/1xhyxix3nF5A26qQTe1gSYJcYjUIipnz9BtZO04GvgJ4/edit?usp=sharing\n",
    "\n",
    "**Please refer back to hw1 and slack for instructions on how to setup your computer for developing using Python.**"
   ]
  },
  {
   "cell_type": "markdown",
   "metadata": {},
   "source": [
    "### Helpful Jupyter Commands\n",
    "\n",
    "Below are some useful commands to know when using Jupyter\n",
    "\n",
    "1. You can add a new cell by clicking on the \"+\" icon on top.\n",
    "2. You can delete a cell by selecting that cell and clicking on the \"scissors\" icon on top.\n",
    "3. You can execute a cell by either pressing shift+enter or selecting the \"play\" button on top.\n",
    "4. You can create a new file in Jupyter via the File menu->New Notebook option. Make sure to select Python 2 when creating your notebook.\n",
    "5. Also, for your code blocks make sure that Code is selected instead of another option like Markdown.\n",
    "6. Use the Enter key to go to the next line in a cell to enter the next statement.\n",
    "7. You can clear results by clicking on the Cell menu item and selecting Current Output->Clear or All Output->Clear depending on whether you are trying to just clear the output for one cell or for all cells.\n",
    "8. In case your program has crashed for some reason (infinite loop, for example), you can restart your Python session by select Kernel in the menu and selecting Restart.\n"
   ]
  },
  {
   "cell_type": "markdown",
   "metadata": {},
   "source": [
    "#### Check Python Version"
   ]
  },
  {
   "cell_type": "code",
   "execution_count": 1,
   "metadata": {},
   "outputs": [
    {
     "name": "stderr",
     "output_type": "stream",
     "text": [
      "Python 2.7.14 :: Anaconda, Inc.\n"
     ]
    }
   ],
   "source": [
    "!python --version"
   ]
  },
  {
   "cell_type": "markdown",
   "metadata": {},
   "source": [
    "#### Sample Exercises with conditionals and repetitions\n",
    "\n",
    "Refer to Week 4 classwork for sample exercises - https://github.com/cis024c/spring2018classwork/tree/master/week4"
   ]
  },
  {
   "cell_type": "markdown",
   "metadata": {},
   "source": [
    "**Exercise 1 - Testing your knowledge of lists, tuples and dictionaries**\n",
    "\n",
    "Answer the below questions\n",
    "\n",
    "1. What is the main difference between a list and a tuple\n",
    "2. How does a dictionary object differ from a list."
   ]
  },
  {
   "cell_type": "markdown",
   "metadata": {},
   "source": [
    "<< Double click this cell and enter your result >>\n",
    "\n",
    "1. The main difference between a list and a tuple - list is mutable and tuple is immutable \n",
    "Python List elements are enclosed within sqaure brackete []\n",
    "Python tuple elemnts are enclosed within parentheses ()\n",
    "\n",
    "2. Dictionary is storing values with some keys and extracting the value given the key. List is indexed like an array.\n"
   ]
  },
  {
   "cell_type": "markdown",
   "metadata": {},
   "source": [
    "#### Exercise 2 -  Initializing a list, tuple and dictionary\n",
    "\n",
    "1. Create a list object with a set of any 10 numbers. Print the result\n",
    "2. Create a tuple object with a set of 10 numbers. Print the result\n",
    "3. Create a dictionary object with a set of 10 numbers. Print the result"
   ]
  },
  {
   "cell_type": "code",
   "execution_count": 9,
   "metadata": {},
   "outputs": [
    {
     "name": "stdout",
     "output_type": "stream",
     "text": [
      "test list is : ['dog', 'cat', 'turtle', 'monkey', 'fish', 'bird', 'insect', 'lion', 'flog', 'pig']\n",
      "testtuple is : (100, 101, 102, 103, 104, 105, 106, 107, 108, 109)\n",
      "testdictionary is : {'a': 'Adam', 'c': 'Carol', 'b': 'Berry', 'e': 'Edward', 'd': 'David', 'g': 'George', 'f': 'Frank', 'i': 'Irwan', 'h': 'Henry', 'j': 'Jack'}\n"
     ]
    }
   ],
   "source": [
    "### YOUR CODE GOES \n",
    "testlist = ['dog', 'cat', 'turtle', 'monkey', 'fish', 'bird', 'insect', 'lion', 'flog', 'pig']\n",
    "print 'test list is :', testlist\n",
    "\n",
    "testtuple = (100,101,102,103,104,105,106,107,108,109)\n",
    "print 'testtuple is :', testtuple\n",
    "\n",
    "testdic = {'a':'Adam', 'b':'Berry', 'c':'Carol', 'd':'David', 'e':'Edward', 'f':'Frank', 'g':'George', 'h':'Henry', 'i':'Irwan', 'j':'Jack'}\n",
    "print 'testdictionary is :', testdic\n",
    "### END CODE"
   ]
  },
  {
   "cell_type": "markdown",
   "metadata": {},
   "source": [
    "#### Exercise 3 - Displaying values in a list object\n",
    "\n",
    "Create a list object with 10 arbitrary numbers. Use a ** for loop ** to display every other element. \n",
    "\n",
    "**Example:**\n",
    "\n",
    "If your list has [2,3,4,5,6], then you will need to display [2,4,6]\n",
    "\n",
    "**Hint:** Make use the last step parameter in the range function to do this"
   ]
  },
  {
   "cell_type": "code",
   "execution_count": 28,
   "metadata": {},
   "outputs": [
    {
     "name": "stdout",
     "output_type": "stream",
     "text": [
      "[10, 12, 14, 16, 19]\n"
     ]
    }
   ],
   "source": [
    "### YOUR CODE GOES BELOW\n",
    "list3 = [10,11,12,13,14,15,16,18,19]\n",
    "list4 =[]\n",
    "\n",
    "for i in range(0,10,2):    \n",
    "    list4.append(list3[i])\n",
    "\n",
    "print list4\n",
    "\n",
    "### END CODE"
   ]
  },
  {
   "cell_type": "markdown",
   "metadata": {},
   "source": [
    "#### Exercise 4 - Sorting a list of strings\n",
    "\n",
    "Ask the user to enter a list of names. Sort the names in ascending order. \n",
    "\n",
    "Hint: Use the same logic that we used in class to sort numbers. When used with strings, Python will sort the strings in alphabetical order"
   ]
  },
  {
   "cell_type": "code",
   "execution_count": 30,
   "metadata": {},
   "outputs": [
    {
     "name": "stdout",
     "output_type": "stream",
     "text": [
      "Please a list of names (separated by space): David alice Rebecca justin\n",
      "alice David justin Rebecca\n"
     ]
    }
   ],
   "source": [
    "### YOUR CODE GOES BELOW\n",
    "\n",
    "name_entered = raw_input(\"Please a list of names (separated by space): \")\n",
    "name_sorted= sorted(name_entered.split(),key=str.lower)\n",
    "print ' '.join(name_sorted)\n",
    "\n",
    "### END CODE"
   ]
  },
  {
   "cell_type": "markdown",
   "metadata": {},
   "source": [
    "#### Exercise 5 - Accessing values in a dictionary object\n",
    "\n",
    "Initialize a dictionary object with the below key, value pairs\n",
    "\n",
    " Key  | Value\n",
    " -----|------\n",
    "1|Harry\n",
    "2|Sally\n",
    "3|Joe\n",
    "4|Mathew\n",
    "\n",
    "Ask the user to enter a key between 1 and 4.\n",
    "\n",
    "Display the corresponding value in the dictionary\n",
    "\n",
    "\n"
   ]
  },
  {
   "cell_type": "code",
   "execution_count": 15,
   "metadata": {},
   "outputs": [
    {
     "name": "stdout",
     "output_type": "stream",
     "text": [
      "Enter your choice [1-4] : 4\n",
      "Your choice  4  is :  Mathew\n"
     ]
    }
   ],
   "source": [
    "### YOUR CODE GOES BELOW\n",
    "dict1 = {1: \"Harry\", 2:\"Sally\", 3:\"Joe\", 4:\"Mathew\"}\n",
    "\n",
    "is_valid=0\n",
    " \n",
    "while not is_valid :\n",
    "    choice = int ( raw_input('Enter your choice [1-4] : ') )\n",
    "    \n",
    "    if (choice <  1) or (choice > 4):\n",
    "        print \"invalid choice (1-4): \"\n",
    "    else:\n",
    "        is_valid=1    \n",
    "\n",
    "print 'Your choice ', 4, \" is : \", dict1[choice]         \n",
    "### END CODE"
   ]
  },
  {
   "cell_type": "markdown",
   "metadata": {},
   "source": [
    "## OPTIONAL EXERCISES\n",
    "\n",
    "Below is a set of optional exercises. These will not be graded but the solutions will be posted. I would strongly encourage you to try these out if you are done with the mandatory homework exercises to improve your understanding of python."
   ]
  },
  {
   "cell_type": "markdown",
   "metadata": {},
   "source": [
    "#### Exercise 6\n",
    "\n",
    "Write a Python script to check if a given key already exists in a dictionary\n",
    "\n",
    "**Hint**: Use the **get** method to determine if a key exists"
   ]
  },
  {
   "cell_type": "code",
   "execution_count": 16,
   "metadata": {},
   "outputs": [
    {
     "name": "stdout",
     "output_type": "stream",
     "text": [
      "Enter a key to get its correspondent value : l\n",
      "Invalid key entered\n"
     ]
    }
   ],
   "source": [
    "### YOUR CODE GOES BELOW\n",
    "testdic = {'a':'Adam', 'b':'Berry', 'c':'Carol', 'd':'David', 'e':'Edward', 'f':'Frank', 'g':'George', 'h':'Henry', 'i':'Irwan', 'j':'Jack'}\n",
    "\n",
    "inputkey = raw_input('Enter a key to get its correspondent value : ')\n",
    "\n",
    "if testdic.get(inputkey, None) <> None:\n",
    "    print \"Return value: \",testdic[inputkey] \n",
    "else:\n",
    "    print \"Invalid key entered\"\n",
    "### END CODE"
   ]
  },
  {
   "cell_type": "markdown",
   "metadata": {},
   "source": [
    "#### Exercise 7\n",
    "\n",
    "Write a Python script to create a dictionary that contains a sequence of numbers from 1 to n and their squares. Ask the user to enter n. Display the resulting dictionary.\n",
    "\n",
    "**Example**\n",
    "If user enters 5, then your dictionary will look like\n",
    "\n",
    "{1:1,2:4,3:9:4:16,5:25}\n",
    "\n",
    "**Hint** You will need to assign new values to the dictionary to create the dictionary object"
   ]
  },
  {
   "cell_type": "code",
   "execution_count": 27,
   "metadata": {},
   "outputs": [
    {
     "name": "stdout",
     "output_type": "stream",
     "text": [
      "Enter a number to create a dictionary contains ther squares : 10\n",
      "Your dictonary is :  {1: 1, 2: 4, 3: 9, 4: 16, 5: 25, 6: 36, 7: 49, 8: 64, 9: 81, 10: 100}\n"
     ]
    }
   ],
   "source": [
    "### YOUR CODE GOES BELOW\n",
    "inputnum = int(raw_input('Enter a number to create a dictionary contains ther squares : '))\n",
    "\n",
    "numbersqr={}\n",
    "for i in range(1,inputnum+1):\n",
    "    numbersqr[i] = i * i\n",
    "    \n",
    "print \"Your dictonary is : \", numbersqr\n",
    "### END CODE"
   ]
  },
  {
   "cell_type": "markdown",
   "metadata": {},
   "source": [
    "#### Exercise 8\n",
    "\n",
    "Refer to Exercise 7 for this problem.\n",
    "\n",
    "Write a python program to sum all the values in the above dictionary (n:n^2). Display the resulting sum\n"
   ]
  },
  {
   "cell_type": "code",
   "execution_count": 39,
   "metadata": {},
   "outputs": [
    {
     "name": "stdout",
     "output_type": "stream",
     "text": [
      "Enter a number to create a dictionary contains ther squares : 10\n",
      "Sum of (n:n*n) is  385\n"
     ]
    }
   ],
   "source": [
    "### YOUR CODE GOES BELOW\n",
    "inputnum = int(raw_input('Enter a number to create a dictionary contains ther squares : '))\n",
    "\n",
    "numbersqr={}\n",
    "sumnum = 0\n",
    "for i in range(1,inputnum+1):\n",
    "    numbersqr[i] = i * i\n",
    "    sumnum+=numbersqr[i]\n",
    "    \n",
    "print \"Sum of (n:n*n) is \", sumnum\n",
    "### END CODE"
   ]
  },
  {
   "cell_type": "markdown",
   "metadata": {},
   "source": [
    "#### Exercise 9\n",
    "\n",
    "Write a Python program to sort the below dictionary by key in descending order. \n",
    "\n",
    " {2:\"Mary\",1:\"Sally\",5:\"Harry\",4:\"Joe\"}\n",
    " \n",
    "**Hint:** Refer to the class example"
   ]
  },
  {
   "cell_type": "code",
   "execution_count": 62,
   "metadata": {},
   "outputs": [
    {
     "name": "stdout",
     "output_type": "stream",
     "text": [
      "key = 5   Harry\n",
      "key = 4   Joe\n",
      "key = 2   Mary\n",
      "key = 1   Sally\n"
     ]
    }
   ],
   "source": [
    "### YOUR CODE GOES BELOW\n",
    "\n",
    "testdict9 = {2:\"Mary\",1:\"Sally\",5:\"Harry\",4:\"Joe\"}\n",
    "\n",
    "sortedkey = sorted(testdict9, reverse = True)\n",
    "newdict = {}\n",
    "\n",
    "for i in sortedkey:\n",
    "    newdict[i] = testdict9[i]\n",
    "    print \"key =\", i, \" \", newdict[i]\n",
    "\n",
    "\n",
    "### END CODE"
   ]
  },
  {
   "cell_type": "code",
   "execution_count": 3,
   "metadata": {},
   "outputs": [
    {
     "name": "stdout",
     "output_type": "stream",
     "text": [
      "Combined dictionary 1 & 2 is :  {1: 'Sally', 2: 'Mary', 4: 'Joe', 5: 'Harry', 6: 'John', 8: 'Alice', 9: 'Nancy', 12: 'Peter'} {1: 'Sally', 2: 'Mary', 4: 'Joe', 5: 'Harry'}\n"
     ]
    }
   ],
   "source": [
    "dict1 = {2:\"Mary\",1:\"Sally\",5:\"Harry\",4:\"Joe\"}\n",
    "dict2 = {6:\"John\",9:\"Nancy\",12:\"Peter\",8:\"Alice\"}\n",
    "\n",
    "\n",
    "dict2.update(dict1)\n",
    "print \"Combined dictionary 1 & 2 is : \", dict2"
   ]
  },
  {
   "cell_type": "code",
   "execution_count": null,
   "metadata": {
    "collapsed": true
   },
   "outputs": [],
   "source": []
  }
 ],
 "metadata": {
  "kernelspec": {
   "display_name": "Python 2",
   "language": "python",
   "name": "python2"
  },
  "language_info": {
   "codemirror_mode": {
    "name": "ipython",
    "version": 2
   },
   "file_extension": ".py",
   "mimetype": "text/x-python",
   "name": "python",
   "nbconvert_exporter": "python",
   "pygments_lexer": "ipython2",
   "version": "2.7.14"
  }
 },
 "nbformat": 4,
 "nbformat_minor": 2
}
